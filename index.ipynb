{
  "cells": [
    {
      "cell_type": "markdown",
      "metadata": {
        "id": "lbjQNpLr198u"
      },
      "source": [
        "# Descoberta e Extração de Conhecimento de Dados (DECD)\n",
        "\n",
        "Materiais de apoio à componente prática da disciplina de Descoberta e Extração de Conhecimento de Dados (DECD) da Licenciatura em Informática e Gestão de Empresas do ISCTE - Instituto Universitário de Lisboa.\n",
        "\n",
        "Os materiais disponibilizados neste repositório são baseados nos materiais da disciplina de [Computação para Economia e Ciências Empresariais](https://github.com/fmmb/CEB), do [Python Data Science Handbook: Essential Tools for Working with Data](https://jakevdp.github.io/PythonDataScienceHandbook/) e do [Python Pandas Tutorial: A Complete Introduction for Beginners](https://www.learndatasci.com/tutorials/python-pandas-tutorial-complete-introduction-for-beginners/).\n",
        "\n",
        "Por favor enviem comentários e seguestões para `ricardo.ribeiro@iscte-iul.pt` e/ou `eugenio.alves.ribeiro@iscte-iul.pt`.\n",
        "\n",
        "----"
      ]
    },
    {
      "cell_type": "markdown",
      "metadata": {
        "id": "UC3etE9h1982"
      },
      "source": [
        "## Conteúdo\n",
        "\n",
        "1. [Introdução à linguagem Python](./notebooks/01-python.ipynb)\n",
        "2. [Processamento numérico](./notebooks/02-numpy.ipynb)\n",
        "3. [Análise e manipulação de dados](./notebooks/03-pandas.ipynb)\n",
        "4. [Visualização](./notebooks/04-visualization.ipynb)\n",
        "5. [Exercícios: Análise e manipulação de dados](./notebooks/05-exercises.ipynb)\n",
        "    - [Solução](./notebooks/05-exercises-solution.ipynb)\n"
      ]
    },
    {
      "cell_type": "markdown",
      "metadata": {
        "id": "PzlX1pJA1985"
      },
      "source": [
        "## Recursos Adicionais\n",
        "\n",
        "- [Python Data Science Handbook: Essential Tools for Working with Data](https://jakevdp.github.io/PythonDataScienceHandbook/)\n",
        "- [The Python Tutorial](https://docs.python.org/3/tutorial/index.html)\n",
        "- [NumPy User Guide](https://numpy.org/doc/stable/user/index.html)\n",
        "- [Pandas User Guide](https://pandas.pydata.org/docs/user_guide/index.html)\n",
        "- [Python Pandas Tutorial: A Complete Introduction for Beginners](https://www.learndatasci.com/tutorials/python-pandas-tutorial-complete-introduction-for-beginners/)\n",
        "- [Pandas Exercises, Practice, Solution](https://www.w3resource.com/python-exercises/pandas/index.php)\n",
        "- [Seaborn Tutorial](https://seaborn.pydata.org/tutorial.html)"
      ]
    }
  ],
  "metadata": {
    "kernelspec": {
      "display_name": "Python 3 (ipykernel)",
      "language": "python",
      "name": "python3"
    },
    "language_info": {
      "codemirror_mode": {
        "name": "ipython",
        "version": 3
      },
      "file_extension": ".py",
      "mimetype": "text/x-python",
      "name": "python",
      "nbconvert_exporter": "python",
      "pygments_lexer": "ipython3",
      "version": "3.10.10"
    },
    "colab": {
      "provenance": []
    }
  },
  "nbformat": 4,
  "nbformat_minor": 0
}